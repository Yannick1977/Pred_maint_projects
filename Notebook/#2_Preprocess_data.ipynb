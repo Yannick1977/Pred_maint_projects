{
 "cells": [
  {
   "cell_type": "markdown",
   "id": "b56dfaaf",
   "metadata": {},
   "source": [
    "_____________________________________________________________________________________________________________"
   ]
  },
  {
   "cell_type": "code",
   "execution_count": 1,
   "id": "1db650ae",
   "metadata": {},
   "outputs": [
    {
     "name": "stdout",
     "output_type": "stream",
     "text": [
      "folder : c:\\Users\\yanni\\Documents\\Projects\\Pred_maint_projects\n",
      "[2024-02-08 22:25:55,666: INFO: common: yaml file: Config\\path.yaml loaded successfully]\n",
      "[2024-02-08 22:25:55,666: INFO: common: created directory at: workdir]\n",
      "[2024-02-08 22:25:55,666: INFO: common: created directory at: workdir/model]\n",
      "{'config_path': {'work_dir': 'workdir', 'model_dir': 'workdir/model', 'local_data_file': 'data/predictive_maintenance.csv', 'local_data_file_analyse': 'workdir/predictive_maintenance_A.csv', 'local_data_file_validation': 'workdir/predictive_maintenance_validation.csv', 'local_data_file_train': 'workdir/predictive_maintenance_train.csv', 'local_data_file_test': 'workdir/predictive_maintenance_test.csv'}}\n"
     ]
    }
   ],
   "source": [
    "import os\n",
    "os.chdir('..')\n",
    "\n",
    "from Src.config import configuration\n",
    "cfg = configuration.config_manager().get_path()\n",
    "\n",
    "print(cfg)"
   ]
  },
  {
   "cell_type": "code",
   "execution_count": 2,
   "id": "79b41544",
   "metadata": {
    "ExecuteTime": {
     "end_time": "2023-12-17T21:02:51.412828100Z",
     "start_time": "2023-12-17T21:02:48.849560700Z"
    }
   },
   "outputs": [
    {
     "name": "stdout",
     "output_type": "stream",
     "text": [
      "           Type Air temperature [K] Process temperature [K]  \\\n",
      "type     object             float64                 float64   \n",
      "min           H               295.3                   305.7   \n",
      "max           M               304.5                   313.8   \n",
      "list  [M, L, H]                                               \n",
      "\n",
      "     Rotational speed [rpm] Torque [Nm] Tool wear [min]  \\\n",
      "type                  int64     float64           int64   \n",
      "min                    1168         3.8               0   \n",
      "max                    2886        76.6             253   \n",
      "list                                                      \n",
      "\n",
      "     Difference temperature [K]    Power  \n",
      "type                    float64  float64  \n",
      "min                         7.6  10966.8  \n",
      "max                        12.1  99980.4  \n",
      "list                                      \n"
     ]
    }
   ],
   "source": [
    "# Import the libraries\n",
    "import pandas as pd\n",
    "from Src.utils.Preprocess import utils_preprocess as preprocess\n",
    "\n",
    "# Read the data\n",
    "df = pd.read_csv(cfg.config_path.local_data_file_analyse, index_col='UDI')\n",
    "\n",
    "# Drop the columns with no failure\n",
    "#df = df.drop(df[df['Target'] == 0].index)\n",
    "\n",
    "# Preprocess the data\n",
    "Preprocess_compute = preprocess(df_=df, cfg_path=cfg.config_path)\n",
    "df_train, df_test, dict_target = Preprocess_compute.preprocess(chx_target=True, chx_smote=False)\n"
   ]
  },
  {
   "cell_type": "code",
   "execution_count": 3,
   "id": "d726d1fd",
   "metadata": {},
   "outputs": [
    {
     "data": {
      "text/plain": [
       "(6382, 15)"
      ]
     },
     "execution_count": 3,
     "metadata": {},
     "output_type": "execute_result"
    }
   ],
   "source": [
    "df_train.shape\n"
   ]
  },
  {
   "cell_type": "code",
   "execution_count": 4,
   "id": "b2e9c2c3",
   "metadata": {},
   "outputs": [
    {
     "data": {
      "text/html": [
       "<div>\n",
       "<style scoped>\n",
       "    .dataframe tbody tr th:only-of-type {\n",
       "        vertical-align: middle;\n",
       "    }\n",
       "\n",
       "    .dataframe tbody tr th {\n",
       "        vertical-align: top;\n",
       "    }\n",
       "\n",
       "    .dataframe thead th {\n",
       "        text-align: right;\n",
       "    }\n",
       "</style>\n",
       "<table border=\"1\" class=\"dataframe\">\n",
       "  <thead>\n",
       "    <tr style=\"text-align: right;\">\n",
       "      <th></th>\n",
       "      <th>cat__Type_H</th>\n",
       "      <th>cat__Type_L</th>\n",
       "      <th>cat__Type_M</th>\n",
       "      <th>num__Air temperature [K]</th>\n",
       "      <th>num__Process temperature [K]</th>\n",
       "      <th>num__Rotational speed [rpm]</th>\n",
       "      <th>num__Torque [Nm]</th>\n",
       "      <th>num__Tool wear [min]</th>\n",
       "      <th>num__Difference temperature [K]</th>\n",
       "      <th>num__Power</th>\n",
       "      <th>Heat Dissipation Failure</th>\n",
       "      <th>No Failure</th>\n",
       "      <th>Overstrain Failure</th>\n",
       "      <th>Power Failure</th>\n",
       "      <th>Tool Wear Failure</th>\n",
       "    </tr>\n",
       "  </thead>\n",
       "  <tbody>\n",
       "    <tr>\n",
       "      <th>0</th>\n",
       "      <td>0.0</td>\n",
       "      <td>1.0</td>\n",
       "      <td>0.0</td>\n",
       "      <td>0.005100</td>\n",
       "      <td>-0.134547</td>\n",
       "      <td>-0.919764</td>\n",
       "      <td>-0.025833</td>\n",
       "      <td>-0.030731</td>\n",
       "      <td>-0.210681</td>\n",
       "      <td>-0.531757</td>\n",
       "      <td>False</td>\n",
       "      <td>True</td>\n",
       "      <td>False</td>\n",
       "      <td>False</td>\n",
       "      <td>False</td>\n",
       "    </tr>\n",
       "    <tr>\n",
       "      <th>1</th>\n",
       "      <td>0.0</td>\n",
       "      <td>1.0</td>\n",
       "      <td>0.0</td>\n",
       "      <td>0.855059</td>\n",
       "      <td>0.605228</td>\n",
       "      <td>-0.740696</td>\n",
       "      <td>0.647203</td>\n",
       "      <td>1.578133</td>\n",
       "      <td>-0.811874</td>\n",
       "      <td>0.521683</td>\n",
       "      <td>False</td>\n",
       "      <td>False</td>\n",
       "      <td>False</td>\n",
       "      <td>False</td>\n",
       "      <td>True</td>\n",
       "    </tr>\n",
       "    <tr>\n",
       "      <th>2</th>\n",
       "      <td>0.0</td>\n",
       "      <td>0.0</td>\n",
       "      <td>1.0</td>\n",
       "      <td>0.305086</td>\n",
       "      <td>-0.134547</td>\n",
       "      <td>-0.512793</td>\n",
       "      <td>0.300788</td>\n",
       "      <td>-1.497636</td>\n",
       "      <td>-0.811874</td>\n",
       "      <td>0.219477</td>\n",
       "      <td>False</td>\n",
       "      <td>True</td>\n",
       "      <td>False</td>\n",
       "      <td>False</td>\n",
       "      <td>False</td>\n",
       "    </tr>\n",
       "    <tr>\n",
       "      <th>3</th>\n",
       "      <td>0.0</td>\n",
       "      <td>1.0</td>\n",
       "      <td>0.0</td>\n",
       "      <td>-0.344883</td>\n",
       "      <td>0.336219</td>\n",
       "      <td>-1.413555</td>\n",
       "      <td>1.973480</td>\n",
       "      <td>-1.450317</td>\n",
       "      <td>1.192102</td>\n",
       "      <td>1.628567</td>\n",
       "      <td>False</td>\n",
       "      <td>True</td>\n",
       "      <td>False</td>\n",
       "      <td>False</td>\n",
       "      <td>False</td>\n",
       "    </tr>\n",
       "    <tr>\n",
       "      <th>4</th>\n",
       "      <td>0.0</td>\n",
       "      <td>0.0</td>\n",
       "      <td>1.0</td>\n",
       "      <td>0.505076</td>\n",
       "      <td>0.605228</td>\n",
       "      <td>1.212764</td>\n",
       "      <td>-1.550061</td>\n",
       "      <td>1.136484</td>\n",
       "      <td>-0.110482</td>\n",
       "      <td>-1.658660</td>\n",
       "      <td>False</td>\n",
       "      <td>True</td>\n",
       "      <td>False</td>\n",
       "      <td>False</td>\n",
       "      <td>False</td>\n",
       "    </tr>\n",
       "  </tbody>\n",
       "</table>\n",
       "</div>"
      ],
      "text/plain": [
       "   cat__Type_H  cat__Type_L  cat__Type_M  num__Air temperature [K]  \\\n",
       "0          0.0          1.0          0.0                  0.005100   \n",
       "1          0.0          1.0          0.0                  0.855059   \n",
       "2          0.0          0.0          1.0                  0.305086   \n",
       "3          0.0          1.0          0.0                 -0.344883   \n",
       "4          0.0          0.0          1.0                  0.505076   \n",
       "\n",
       "   num__Process temperature [K]  num__Rotational speed [rpm]  \\\n",
       "0                     -0.134547                    -0.919764   \n",
       "1                      0.605228                    -0.740696   \n",
       "2                     -0.134547                    -0.512793   \n",
       "3                      0.336219                    -1.413555   \n",
       "4                      0.605228                     1.212764   \n",
       "\n",
       "   num__Torque [Nm]  num__Tool wear [min]  num__Difference temperature [K]  \\\n",
       "0         -0.025833             -0.030731                        -0.210681   \n",
       "1          0.647203              1.578133                        -0.811874   \n",
       "2          0.300788             -1.497636                        -0.811874   \n",
       "3          1.973480             -1.450317                         1.192102   \n",
       "4         -1.550061              1.136484                        -0.110482   \n",
       "\n",
       "   num__Power  Heat Dissipation Failure  No Failure  Overstrain Failure  \\\n",
       "0   -0.531757                     False        True               False   \n",
       "1    0.521683                     False       False               False   \n",
       "2    0.219477                     False        True               False   \n",
       "3    1.628567                     False        True               False   \n",
       "4   -1.658660                     False        True               False   \n",
       "\n",
       "   Power Failure  Tool Wear Failure  \n",
       "0          False              False  \n",
       "1          False               True  \n",
       "2          False              False  \n",
       "3          False              False  \n",
       "4          False              False  "
      ]
     },
     "execution_count": 4,
     "metadata": {},
     "output_type": "execute_result"
    }
   ],
   "source": [
    "df_train.head()"
   ]
  },
  {
   "cell_type": "markdown",
   "id": "9fc0f779",
   "metadata": {},
   "source": [
    "_______________________________________________________________________________________________________________________"
   ]
  },
  {
   "cell_type": "markdown",
   "id": "ec7ced684e37e66d",
   "metadata": {
    "collapsed": false
   },
   "source": [
    "### Import"
   ]
  },
  {
   "cell_type": "code",
   "execution_count": null,
   "id": "initial_id",
   "metadata": {
    "ExecuteTime": {
     "end_time": "2023-11-22T21:39:14.768353200Z",
     "start_time": "2023-11-22T21:39:14.752321200Z"
    },
    "collapsed": true
   },
   "outputs": [],
   "source": [
    "import pandas as pd\n",
    "import numpy as np\n",
    "import json\n",
    "from sklearn.preprocessing import OneHotEncoder, StandardScaler, OrdinalEncoder\n",
    "from sklearn.compose import ColumnTransformer\n",
    "from sklearn.model_selection import train_test_split\n"
   ]
  },
  {
   "cell_type": "code",
   "execution_count": null,
   "id": "72ad8e45dd79db7c",
   "metadata": {
    "ExecuteTime": {
     "end_time": "2023-11-22T21:33:45.817126600Z",
     "start_time": "2023-11-22T21:33:45.738317Z"
    },
    "collapsed": false
   },
   "outputs": [],
   "source": [
    "import warnings\n",
    "\n",
    "warnings.filterwarnings(action='ignore')"
   ]
  },
  {
   "cell_type": "markdown",
   "id": "b0ee217cfc755134",
   "metadata": {
    "collapsed": false
   },
   "source": [
    "### Read file data"
   ]
  },
  {
   "cell_type": "code",
   "execution_count": null,
   "id": "4a08a3db379f1a3a",
   "metadata": {
    "ExecuteTime": {
     "end_time": "2023-11-22T21:33:45.903970400Z",
     "start_time": "2023-11-22T21:33:45.833142900Z"
    },
    "collapsed": false
   },
   "outputs": [],
   "source": [
    "df = pd.read_csv(cfg.config_path.local_data_file_analyse, index_col='UDI')\n",
    "df.head()"
   ]
  },
  {
   "cell_type": "markdown",
   "id": "64fe3ebe7f92d2f1",
   "metadata": {
    "collapsed": false
   },
   "source": [
    "Delete rows with 'Random Failures' in type column with target == 0"
   ]
  },
  {
   "cell_type": "code",
   "execution_count": null,
   "id": "710a4eb23a0a975",
   "metadata": {
    "ExecuteTime": {
     "end_time": "2023-11-22T21:33:45.903970400Z",
     "start_time": "2023-11-22T21:33:45.873388300Z"
    },
    "collapsed": false
   },
   "outputs": [],
   "source": [
    "df_tmp = df[df['Target']==0]\n",
    "df_tmp['Failure Type'].value_counts()"
   ]
  },
  {
   "cell_type": "code",
   "execution_count": null,
   "id": "dac21dc0faed4dc5",
   "metadata": {
    "ExecuteTime": {
     "end_time": "2023-11-22T21:33:45.903970400Z",
     "start_time": "2023-11-22T21:33:45.884936Z"
    },
    "collapsed": false
   },
   "outputs": [],
   "source": [
    "idx = df_tmp[df_tmp['Failure Type'] == 'Random Failures'].index\n",
    "df.drop(index=idx, axis=0, inplace=True)"
   ]
  },
  {
   "cell_type": "markdown",
   "id": "1ce90491d6bc2fdc",
   "metadata": {
    "collapsed": false
   },
   "source": [
    "Delete rows with 'No Failure' in type column with target == 1"
   ]
  },
  {
   "cell_type": "code",
   "execution_count": null,
   "id": "6741fbe980a35ade",
   "metadata": {
    "ExecuteTime": {
     "end_time": "2023-11-22T21:33:45.991435900Z",
     "start_time": "2023-11-22T21:33:45.903970400Z"
    },
    "collapsed": false
   },
   "outputs": [],
   "source": [
    "df_tmp = df[df['Target']==1]\n",
    "df_tmp['Failure Type'].value_counts()"
   ]
  },
  {
   "cell_type": "code",
   "execution_count": null,
   "id": "31024df3ca985bda",
   "metadata": {
    "ExecuteTime": {
     "end_time": "2023-11-22T21:33:45.991435900Z",
     "start_time": "2023-11-22T21:33:45.928951800Z"
    },
    "collapsed": false
   },
   "outputs": [],
   "source": [
    "idx = df_tmp[df_tmp['Failure Type']=='No Failure'].index\n",
    "df.drop(index=idx, axis=0, inplace=True)"
   ]
  },
  {
   "cell_type": "code",
   "execution_count": null,
   "id": "3f97ae5e20939494",
   "metadata": {
    "ExecuteTime": {
     "end_time": "2023-11-22T21:33:46.039429500Z",
     "start_time": "2023-11-22T21:33:45.944871500Z"
    },
    "collapsed": false
   },
   "outputs": [],
   "source": [
    "df.shape"
   ]
  },
  {
   "cell_type": "markdown",
   "id": "8bad044bb2910bf0",
   "metadata": {},
   "source": [
    "# Data Formatting\n",
    "## Conversion 'Failure Type' variable to discret value"
   ]
  },
  {
   "cell_type": "code",
   "execution_count": null,
   "id": "54c2e657a8fc4bbe",
   "metadata": {},
   "outputs": [],
   "source": [
    "lst_failure = df['Failure Type'].unique()\n",
    "dict_failure = {}\n",
    "for i, failure in enumerate(lst_failure):\n",
    "    dict_failure[failure] = i\n",
    "df['Failure Type'].map(dict_failure)  "
   ]
  },
  {
   "cell_type": "markdown",
   "id": "e81808dcb94cf380",
   "metadata": {
    "collapsed": false
   },
   "source": [
    "## List of categorical variables\n",
    "Memorize features who are 'object' type, exclude target variables "
   ]
  },
  {
   "cell_type": "code",
   "execution_count": null,
   "id": "bbdab2ea7e58c45b",
   "metadata": {
    "ExecuteTime": {
     "end_time": "2023-11-22T21:33:46.120146400Z",
     "start_time": "2023-11-22T21:33:45.966505400Z"
    },
    "collapsed": false
   },
   "outputs": [],
   "source": [
    "cat_cols = df.select_dtypes(include='O').columns.to_list()\n",
    "cat_cols.remove('Failure Type')\n",
    "#cat_cols.append('Target')\n",
    "cat_cols"
   ]
  },
  {
   "cell_type": "markdown",
   "id": "605abe70012e8045",
   "metadata": {
    "collapsed": false
   },
   "source": [
    "## List of numerical variables\n",
    "Memorize features who are 'numerical' type, exclude target variables "
   ]
  },
  {
   "cell_type": "code",
   "execution_count": null,
   "id": "b74b65175fcb9e83",
   "metadata": {
    "ExecuteTime": {
     "end_time": "2023-11-22T21:35:27.106851Z",
     "start_time": "2023-11-22T21:35:27.073335100Z"
    },
    "collapsed": false
   },
   "outputs": [],
   "source": [
    "num_cols = df.select_dtypes(exclude='O').columns.to_list()\n",
    "num_cols.remove('Target')\n",
    "num_cols"
   ]
  },
  {
   "cell_type": "markdown",
   "id": "36c676bb5bd58f6b",
   "metadata": {
    "collapsed": false
   },
   "source": [
    "## Preprocessing of variables"
   ]
  },
  {
   "cell_type": "markdown",
   "id": "2799d6ab8ea5828c",
   "metadata": {
    "collapsed": false
   },
   "source": [
    "#### Pipeline creation"
   ]
  },
  {
   "cell_type": "markdown",
   "id": "6170bcbdf16d76b",
   "metadata": {
    "collapsed": false
   },
   "source": [
    "Define different preprocessing to dataset\n",
    "1. OnehotEncoder process from list of variables in 'cat_cols'\n",
    "2. StandardScaler process from list of variables in 'num_cols'\n",
    "3. OrdinalEncoder process for 'Failure Type' variables"
   ]
  },
  {
   "cell_type": "code",
   "execution_count": null,
   "id": "f00f6c2a83254dc6",
   "metadata": {
    "ExecuteTime": {
     "end_time": "2023-11-22T21:35:32.612001100Z",
     "start_time": "2023-11-22T21:35:32.580472800Z"
    },
    "collapsed": false
   },
   "outputs": [],
   "source": [
    "ct = ColumnTransformer([\n",
    "    (\"onehot\", OneHotEncoder(), cat_cols),\n",
    "    (\"scale\", StandardScaler(), num_cols),\n",
    "    (\"fail_type\", OrdinalEncoder(), ['Target'])\n",
    "])\n"
   ]
  },
  {
   "cell_type": "markdown",
   "id": "f568c6d15f72ac6",
   "metadata": {
    "collapsed": false
   },
   "source": [
    "Apply preprocess transformer and create dataframe 'df_preprocess' "
   ]
  },
  {
   "cell_type": "code",
   "execution_count": null,
   "id": "aa988049828df837",
   "metadata": {},
   "outputs": [],
   "source": [
    "df.drop(columns=['Target'], inplace=True)\n",
    "df.rename(columns={'Failure Type': 'Target'}, inplace=True)\n",
    "df_preprocess = pd.DataFrame(ct.fit_transform(df), columns=ct.get_feature_names_out())\n"
   ]
  },
  {
   "cell_type": "code",
   "execution_count": null,
   "id": "ffa08f75",
   "metadata": {},
   "outputs": [],
   "source": [
    "\n",
    "df_preprocess.dropna(axis=0, inplace=True)"
   ]
  },
  {
   "cell_type": "markdown",
   "id": "bdf973f9",
   "metadata": {},
   "source": [
    "Create dictionnary with index and value of 'target' feature"
   ]
  },
  {
   "cell_type": "code",
   "execution_count": null,
   "id": "04a12c62",
   "metadata": {},
   "outputs": [],
   "source": [
    "cat_=ct.named_transformers_['fail_type'].categories_\n",
    "dict_target = {}\n",
    "dict_target_inv = {}\n",
    "for i, c in enumerate(cat_[0]):\n",
    "    dict_target[c] = i\n",
    "    dict_target_inv[i] = c\n"
   ]
  },
  {
   "cell_type": "markdown",
   "id": "75197883",
   "metadata": {},
   "source": [
    "Split dataframe into dataset for training and dataset for validation"
   ]
  },
  {
   "cell_type": "code",
   "execution_count": null,
   "id": "dd2dc510",
   "metadata": {},
   "outputs": [],
   "source": [
    "X_, X_val, y_, y_val = train_test_split(\n",
    "    df_preprocess.drop(columns=['fail_type__Target']), \n",
    "    df_preprocess['fail_type__Target'], \n",
    "    test_size=0.2,\n",
    "    stratify=df_preprocess['fail_type__Target'],\n",
    "    random_state=42)"
   ]
  },
  {
   "cell_type": "code",
   "execution_count": null,
   "id": "708499b4",
   "metadata": {},
   "outputs": [],
   "source": [
    "df_train = pd.concat([X_, y_], axis=1)\n",
    "df_val = pd.concat([X_val, y_val], axis=1)"
   ]
  },
  {
   "cell_type": "markdown",
   "id": "008995da",
   "metadata": {},
   "source": [
    "Save dataframe"
   ]
  },
  {
   "cell_type": "code",
   "execution_count": null,
   "id": "d0b6bae0d87af516",
   "metadata": {
    "ExecuteTime": {
     "end_time": "2023-11-22T21:45:10.241504500Z",
     "start_time": "2023-11-22T21:45:10.098990100Z"
    },
    "collapsed": false
   },
   "outputs": [],
   "source": [
    "df_train.to_csv('../data/predictive_maintenance_preprocess.csv')\n",
    "df_val.to_csv('../data/predictive_maintenance_validation.csv')"
   ]
  },
  {
   "cell_type": "markdown",
   "id": "326df2ac",
   "metadata": {},
   "source": [
    "Save dictionary of target"
   ]
  },
  {
   "cell_type": "code",
   "execution_count": null,
   "id": "67bc9496",
   "metadata": {},
   "outputs": [],
   "source": [
    "with open('../data/dict_target.json', 'w') as f:\n",
    "    json.dump(dict_target_inv, f)"
   ]
  }
 ],
 "metadata": {
  "kernelspec": {
   "display_name": "Python 3",
   "language": "python",
   "name": "python3"
  },
  "language_info": {
   "codemirror_mode": {
    "name": "ipython",
    "version": 3
   },
   "file_extension": ".py",
   "mimetype": "text/x-python",
   "name": "python",
   "nbconvert_exporter": "python",
   "pygments_lexer": "ipython3",
   "version": "3.9.18"
  }
 },
 "nbformat": 4,
 "nbformat_minor": 5
}
