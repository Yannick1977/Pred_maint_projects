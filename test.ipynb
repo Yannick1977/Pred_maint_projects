{
 "cells": [
  {
   "cell_type": "code",
   "execution_count": 1,
   "metadata": {},
   "outputs": [],
   "source": [
    "from Src import logger\n",
    "\n"
   ]
  },
  {
   "cell_type": "code",
   "execution_count": 2,
   "metadata": {},
   "outputs": [
    {
     "name": "stdout",
     "output_type": "stream",
     "text": [
      "[2024-01-20 18:17:41,105: INFO: 299967630: >>>>>> stage  started <<<<<<]\n",
      "[2024-01-20 18:17:41,106: INFO: 299967630: >>>>>> stage  completed <<<<<<\n",
      "\n",
      "x==========x]\n"
     ]
    }
   ],
   "source": [
    "try:\n",
    "   logger.info(f\">>>>>> stage  started <<<<<<\") \n",
    "\n",
    "   logger.info(f\">>>>>> stage  completed <<<<<<\\n\\nx==========x\")\n",
    "except Exception as e:\n",
    "        logger.exception(e)\n",
    "        raise e"
   ]
  },
  {
   "cell_type": "code",
   "execution_count": 3,
   "metadata": {},
   "outputs": [
    {
     "name": "stdout",
     "output_type": "stream",
     "text": [
      "[2024-01-20 18:17:46,895: INFO: common: yaml file: Config\\path.yaml loaded successfully]\n",
      "data/predictive_maintenance.csv\n",
      "[2024-01-20 18:17:46,900: INFO: common: created directory at: workdir]\n"
     ]
    }
   ],
   "source": [
    "from Src.utils.common import read_yaml,create_directories\n",
    "from pathlib import Path\n",
    "\n",
    "cfg = read_yaml(Path(\"Config\\path.yaml\"))\n",
    "print(cfg.config_path.local_data_file)\n",
    "\n",
    "create_directories([cfg.config_path.work_dir])"
   ]
  },
  {
   "cell_type": "code",
   "execution_count": 1,
   "metadata": {},
   "outputs": [
    {
     "name": "stdout",
     "output_type": "stream",
     "text": [
      "[2024-01-20 18:25:48,837: INFO: common: yaml file: Config\\path.yaml loaded successfully]\n",
      "[2024-01-20 18:25:48,837: INFO: common: created directory at: workdir]\n",
      "workdir\n",
      "{'config_path': {'work_dir': 'workdir', 'local_data_file': 'data/predictive_maintenance.csv', 'local_data_file_analyse': 'workdir/predictive_maintenance_A.csv'}}\n"
     ]
    }
   ],
   "source": [
    "from Src.config import configuration\n",
    "import os\n",
    "\n",
    "cfg = configuration.config_manager()\n",
    "a = cfg.get_path()\n",
    "print((a.config_path.work_dir))\n",
    "print(cfg.get_path())\n"
   ]
  }
 ],
 "metadata": {
  "kernelspec": {
   "display_name": "Predictive_maintenance_project",
   "language": "python",
   "name": "python3"
  },
  "language_info": {
   "codemirror_mode": {
    "name": "ipython",
    "version": 3
   },
   "file_extension": ".py",
   "mimetype": "text/x-python",
   "name": "python",
   "nbconvert_exporter": "python",
   "pygments_lexer": "ipython3",
   "version": "3.9.18"
  }
 },
 "nbformat": 4,
 "nbformat_minor": 2
}
