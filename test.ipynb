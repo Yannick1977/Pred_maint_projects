{
 "cells": [
  {
   "cell_type": "code",
   "execution_count": 1,
   "metadata": {},
   "outputs": [],
   "source": [
    "from Src import logger\n",
    "\n"
   ]
  },
  {
   "cell_type": "code",
   "execution_count": 2,
   "metadata": {},
   "outputs": [
    {
     "name": "stdout",
     "output_type": "stream",
     "text": [
      "[2024-01-20 18:17:41,105: INFO: 299967630: >>>>>> stage  started <<<<<<]\n",
      "[2024-01-20 18:17:41,106: INFO: 299967630: >>>>>> stage  completed <<<<<<\n",
      "\n",
      "x==========x]\n"
     ]
    }
   ],
   "source": [
    "try:\n",
    "   logger.info(f\">>>>>> stage  started <<<<<<\") \n",
    "\n",
    "   logger.info(f\">>>>>> stage  completed <<<<<<\\n\\nx==========x\")\n",
    "except Exception as e:\n",
    "        logger.exception(e)\n",
    "        raise e"
   ]
  },
  {
   "cell_type": "code",
   "execution_count": 3,
   "metadata": {},
   "outputs": [
    {
     "name": "stdout",
     "output_type": "stream",
     "text": [
      "[2024-01-20 18:17:46,895: INFO: common: yaml file: Config\\path.yaml loaded successfully]\n",
      "data/predictive_maintenance.csv\n",
      "[2024-01-20 18:17:46,900: INFO: common: created directory at: workdir]\n"
     ]
    }
   ],
   "source": [
    "from Src.utils.common import read_yaml,create_directories\n",
    "from pathlib import Path\n",
    "\n",
    "cfg = read_yaml(Path(\"Config\\path.yaml\"))\n",
    "print(cfg.config_path.local_data_file)\n",
    "\n",
    "create_directories([cfg.config_path.work_dir])"
   ]
  },
  {
   "cell_type": "code",
   "execution_count": 1,
   "metadata": {},
   "outputs": [
    {
     "name": "stdout",
     "output_type": "stream",
     "text": [
      "[2024-01-20 18:25:48,837: INFO: common: yaml file: Config\\path.yaml loaded successfully]\n",
      "[2024-01-20 18:25:48,837: INFO: common: created directory at: workdir]\n",
      "workdir\n",
      "{'config_path': {'work_dir': 'workdir', 'local_data_file': 'data/predictive_maintenance.csv', 'local_data_file_analyse': 'workdir/predictive_maintenance_A.csv'}}\n"
     ]
    }
   ],
   "source": [
    "from Src.config import configuration\n",
    "import os\n",
    "\n",
    "cfg = configuration.config_manager()\n",
    "a = cfg.get_path()\n",
    "print((a.config_path.work_dir))\n",
    "print(cfg.get_path())\n"
   ]
  },
  {
   "cell_type": "code",
   "execution_count": 1,
   "metadata": {},
   "outputs": [
    {
     "name": "stdout",
     "output_type": "stream",
     "text": [
      "WARNING:tensorflow:From c:\\Users\\yanni\\anaconda3\\envs\\Predictive_maintenance_project\\lib\\site-packages\\keras\\src\\losses.py:2976: The name tf.losses.sparse_softmax_cross_entropy is deprecated. Please use tf.compat.v1.losses.sparse_softmax_cross_entropy instead.\n",
      "\n",
      "WARNING:tensorflow:From c:\\Users\\yanni\\anaconda3\\envs\\Predictive_maintenance_project\\lib\\site-packages\\keras\\src\\backend.py:1398: The name tf.executing_eagerly_outside_functions is deprecated. Please use tf.compat.v1.executing_eagerly_outside_functions instead.\n",
      "\n",
      "WARNING:tensorflow:From c:\\Users\\yanni\\anaconda3\\envs\\Predictive_maintenance_project\\lib\\site-packages\\keras\\src\\optimizers\\__init__.py:309: The name tf.train.Optimizer is deprecated. Please use tf.compat.v1.train.Optimizer instead.\n",
      "\n",
      "Model: \"sequential\"\n",
      "_________________________________________________________________\n",
      " Layer (type)                Output Shape              Param #   \n",
      "=================================================================\n",
      " dense (Dense)               (None, 256)               2816      \n",
      "                                                                 \n",
      " batch_normalization (Batch  (None, 256)               1024      \n",
      " Normalization)                                                  \n",
      "                                                                 \n",
      " dense_1 (Dense)             (None, 128)               32896     \n",
      "                                                                 \n",
      " batch_normalization_1 (Bat  (None, 128)               512       \n",
      " chNormalization)                                                \n",
      "                                                                 \n",
      " dense_2 (Dense)             (None, 64)                8256      \n",
      "                                                                 \n",
      " batch_normalization_2 (Bat  (None, 64)                256       \n",
      " chNormalization)                                                \n",
      "                                                                 \n",
      " dense_3 (Dense)             (None, 32)                2080      \n",
      "                                                                 \n",
      " batch_normalization_3 (Bat  (None, 32)                128       \n",
      " chNormalization)                                                \n",
      "                                                                 \n",
      " dense_4 (Dense)             (None, 16)                528       \n",
      "                                                                 \n",
      " batch_normalization_4 (Bat  (None, 16)                64        \n",
      " chNormalization)                                                \n",
      "                                                                 \n",
      " dense_5 (Dense)             (None, 5)                 85        \n",
      "                                                                 \n",
      "=================================================================\n",
      "Total params: 48645 (190.02 KB)\n",
      "Trainable params: 47653 (186.14 KB)\n",
      "Non-trainable params: 992 (3.88 KB)\n",
      "_________________________________________________________________\n"
     ]
    },
    {
     "name": "stderr",
     "output_type": "stream",
     "text": [
      "C:\\Users\\yanni\\AppData\\Local\\Temp\\ipykernel_17012\\1244917605.py:5: UserWarning: You are saving your model as an HDF5 file via `model.save()`. This file format is considered legacy. We recommend using instead the native Keras format, e.g. `model.save('my_model.keras')`.\n",
      "  save_model(model, \"./workdir/model/best_model.h5\")\n"
     ]
    }
   ],
   "source": [
    "from tensorflow.keras.models import load_model, save_model\n",
    "\n",
    "model = load_model(\"./workdir/model/best_model.keras\")\n",
    "model.summary()\n",
    "save_model(model, \"./workdir/model/best_model.h5\")"
   ]
  },
  {
   "cell_type": "code",
   "execution_count": 6,
   "metadata": {},
   "outputs": [
    {
     "name": "stdout",
     "output_type": "stream",
     "text": [
      "current dir: c:\\Users\\yanni\\Documents\\Projects\\Pred_maint_projects\n",
      "Pred_maint_projects\n",
      "current dir: c:\\Users\\yanni\\Documents\\Projects\\Pred_maint_projects\n"
     ]
    }
   ],
   "source": [
    "import os\n",
    "\n",
    "st = os.getcwd()\n",
    "print(f'current dir: {st}')\n",
    "print(st.split(\"\\\\\")[-1])\n",
    "\n",
    "def move_to_project_dir():\n",
    "    if os.getenv('NAME_PROJECT') is None:\n",
    "        os.environ['NAME_PROJECT'] = \"Pred_maint_projects\"\n",
    "\n",
    "    _project_name = os.getenv('NAME_PROJECT')\n",
    "    if (_project_name in st):\n",
    "        while (st.split(\"\\\\\")[-1]!=_project_name):\n",
    "            print(f'current dir: {os.getcwd()}')\n",
    "            os.chdir(\"..\")\n",
    "    else:\n",
    "        print(f'current dir: {os.getcwd()}')\n",
    "        print(\"not found\")\n",
    "\n",
    "\n",
    "move_to_project_dir()\n",
    "\n",
    "st = os.getcwd()\n",
    "print(f'current dir: {st}')"
   ]
  },
  {
   "cell_type": "markdown",
   "metadata": {},
   "source": [
    "_________________________________________________________________________________________________"
   ]
  },
  {
   "cell_type": "markdown",
   "metadata": {},
   "source": [
    "\n",
    "uvicorn --reload Src.App.main:app\n",
    "\n",
    "{\n",
    "  \"Type\": \"M\",\n",
    "  \"Air_temperature\": 298,\n",
    "  \"Process_temperature\": 308,\n",
    "  \"Rotational_speed\": 1551,\n",
    "  \"Torque\": 43,\n",
    "  \"Tool_wear\": 0,\n",
    "  \"Difference_temperature\": 10,\n",
    "  \"Power\": 66700\n",
    "}"
   ]
  },
  {
   "cell_type": "code",
   "execution_count": null,
   "metadata": {},
   "outputs": [],
   "source": []
  }
 ],
 "metadata": {
  "kernelspec": {
   "display_name": "Predictive_maintenance_project",
   "language": "python",
   "name": "python3"
  },
  "language_info": {
   "codemirror_mode": {
    "name": "ipython",
    "version": 3
   },
   "file_extension": ".py",
   "mimetype": "text/x-python",
   "name": "python",
   "nbconvert_exporter": "python",
   "pygments_lexer": "ipython3",
   "version": "3.9.18"
  }
 },
 "nbformat": 4,
 "nbformat_minor": 2
}
